{
 "cells": [
  {
   "cell_type": "code",
   "execution_count": 2,
   "id": "a9d4fc52",
   "metadata": {},
   "outputs": [],
   "source": [
    "import sys\n",
    "import ff\n",
    "\n",
    "# sys.path.insert(0, \"/Users/raymondiacobacci/Downloads/rcwaControl/\")\n",
    "# import rcwa  # type: ignore\n",
    "\n",
    "import matplotlib.pyplot as plt\n",
    "import numpy as np\n",
    "\n",
    "import pandas as pd\n",
    "\n",
    "h = 6.626070e-34  # Js Planck's constant\n",
    "c = 2.997925e8  # m/s speed of light\n",
    "k_B = 1.380649e-23  # J/K Boltzmann constant\n",
    "q = 1.602176e-19  # C elementary charge\n",
    "l_i = np.arange(350, 3001, 1)  # nm wavelength range\n",
    "T_e = 2073.15  # K emitter temperature\n",
    "\n",
    "blackbody_radiation = (\n",
    "    lambda lambda_i, T: (2 * h * c**2)\n",
    "    / ((np.exp((h * c) / (k_B * T * lambda_i * 1e-9)) - 1) * lambda_i**5)\n",
    "    * 1e32\n",
    ")\n",
    "\n",
    "B_i = blackbody_radiation(l_i, T_e)  # 2073.15K blackbody\n",
    "\n",
    "with open(\"homogeneous-film-emissivity.txt\", \"r\") as f:\n",
    "    p = f.readlines()\n",
    "efficiency_array = ff.parse_data(p)\n",
    "\n",
    "blackbody_transmission_array = [i * B_i for i in efficiency_array]\n",
    "\n",
    "n_all = pd.read_excel(\"/Users/raymondiacobacci/LeiteLab-6_8/n-allHTMats-2.xlsx\")\n",
    "k_all = pd.read_excel(\"/Users/raymondiacobacci/LeiteLab-6_8/k-allHTMats.xlsx\")\n",
    "\n",
    "nb_B = (\n",
    "    lambda lambda_i, T: (2 * c)\n",
    "    / ((np.exp((h * c) / (k_B * T * lambda_i * 1e-9)) - 1) * lambda_i**4)\n",
    "    * 1e23\n",
    ")\n",
    "nb_B_e = nb_B(l_i, T_e)\n",
    "T_PV = 300\n",
    "nb_B_PV = nb_B(l_i, T_PV)\n",
    "nk_AlN = n_all[\"AlN\"] + 1j * k_all[\"AlN\"]\n",
    "nk_W = n_all[\"W\"] + 1j * k_all[\"W\"]"
   ]
  },
  {
   "cell_type": "markdown",
   "id": "371b7d39",
   "metadata": {},
   "source": [
    "# Testing of Kim's TORCWA"
   ]
  },
  {
   "cell_type": "code",
   "execution_count": 53,
   "id": "8555280f",
   "metadata": {},
   "outputs": [
    {
     "ename": "NameError",
     "evalue": "name 'rcwa' is not defined",
     "output_type": "error",
     "traceback": [
      "\u001b[0;31m---------------------------------------------------------------------------\u001b[0m",
      "\u001b[0;31mNameError\u001b[0m                                 Traceback (most recent call last)",
      "Cell \u001b[0;32mIn[53], line 35\u001b[0m\n\u001b[1;32m     31\u001b[0m latticeVectors \u001b[38;5;241m=\u001b[39m [grating_thickness, \u001b[38;5;241m1\u001b[39m]\n\u001b[1;32m     33\u001b[0m emissivity_at_wavelength \u001b[38;5;241m=\u001b[39m []\n\u001b[0;32m---> 35\u001b[0m air_layer \u001b[38;5;241m=\u001b[39m \u001b[43mrcwa\u001b[49m\u001b[38;5;241m.\u001b[39mLayer(n \u001b[38;5;241m=\u001b[39m \u001b[38;5;241m1\u001b[39m, thickness \u001b[38;5;241m=\u001b[39m \u001b[38;5;241m9999\u001b[39m)\n\u001b[1;32m     36\u001b[0m \u001b[38;5;28;01mfor\u001b[39;00m wavelength_index \u001b[38;5;129;01min\u001b[39;00m \u001b[38;5;28mrange\u001b[39m(\u001b[38;5;241m2651\u001b[39m): \u001b[38;5;66;03m# We have 2651 points\u001b[39;00m\n\u001b[1;32m     37\u001b[0m     \u001b[38;5;66;03m# wavelength_index = 1150\u001b[39;00m\n\u001b[1;32m     38\u001b[0m     AlN_grating \u001b[38;5;241m=\u001b[39m rcwa\u001b[38;5;241m.\u001b[39mCrystal(latticeVectors, er\u001b[38;5;241m=\u001b[39m(nk_AlN[wavelength_index]\u001b[38;5;241m*\u001b[39m\u001b[38;5;241m*\u001b[39m\u001b[38;5;241m2\u001b[39m\u001b[38;5;241m-\u001b[39m\u001b[38;5;241m1\u001b[39m) \u001b[38;5;241m*\u001b[39m er \u001b[38;5;241m+\u001b[39m \u001b[38;5;241m1\u001b[39m, ur\u001b[38;5;241m=\u001b[39mur)\n",
      "\u001b[0;31mNameError\u001b[0m: name 'rcwa' is not defined"
     ]
    }
   ],
   "source": [
    "'''\n",
    "This tests the performance of the two situations\n",
    "'''\n",
    "# from torcwa import rcwa\n",
    "\n",
    "emissivity_at_wavelength_declan = np.load(\"control_density.npy\")\n",
    "\n",
    "def plot_density(array):\n",
    "    print(emissivity_at_wavelength_declan)\n",
    "    print(array * B_i)\n",
    "    print(emissivity_at_wavelength_declan - array * B_i)\n",
    "    \n",
    "    plt.plot(l_i, array * B_i, label=\"+ Rand Grating\")\n",
    "    plt.plot(l_i, emissivity_at_wavelength_declan, label=\"Control (Declan)\")\n",
    "    plt.plot(l_i, B_i, label=\"Blackbody radiation\")\n",
    "    plt.plot(l_i, emissivity_at_wavelength_declan - array * B_i, label=\"Difference in values\")\n",
    "    plt.axvline(\n",
    "        x=np.argmax(B_i) + l_i[0], color=\"r\", linestyle=\"--\", label=\"Peak intensity\"\n",
    "    )\n",
    "    plt.legend(loc=\"upper right\")\n",
    "    plt.ylabel(\"Power Density (W/cm^2/nm)\")\n",
    "    plt.xlabel(\"Wavelength (nm)\")\n",
    "    plt.title(\"Spectral Density\")\n",
    "    plt.show()\n",
    "\n",
    "er = np.ones(shape = (100,))\n",
    "# er[50:60] = 0\n",
    "ur = np.ones(shape=er.shape)\n",
    "grating_depth = .473\n",
    "grating_thickness = 1\n",
    "latticeVectors = [grating_thickness, 1]\n",
    "\n",
    "emissivity_at_wavelength = []\n",
    "\n",
    "air_layer = rcwa.Layer(n = 1, thickness = 9999)\n",
    "for wavelength_index in range(2651): # We have 2651 points\n",
    "    # wavelength_index = 1150\n",
    "    AlN_grating = rcwa.Crystal(latticeVectors, er=(nk_AlN[wavelength_index]**2-1) * er + 1, ur=ur)\n",
    "    AlN_layer = rcwa.Layer(crystal = AlN_grating, thickness = grating_depth)\n",
    "    W_layer = rcwa.Layer(n=nk_W[wavelength_index], thickness=9998)\n",
    "    stack = rcwa.LayerStack(\n",
    "        AlN_layer, incident_layer=air_layer, transmission_layer=W_layer\n",
    "    )\n",
    "    source = rcwa.Source(wavelength=l_i[wavelength_index] / 1000.0)\n",
    "    solver = rcwa.Solver(stack, source, 3)\n",
    "    results = solver.solve()\n",
    "    emissivity_at_wavelength.append(1 - results['RTot'])\n",
    "    # break\n",
    "\n",
    "print(emissivity_at_wavelength)\n",
    "# plot_density(emissivity_at_wavelength)"
   ]
  },
  {
   "cell_type": "markdown",
   "id": "81d40efd",
   "metadata": {},
   "source": [
    "# Testing of Raymond's rcwa-ctrl"
   ]
  },
  {
   "cell_type": "code",
   "execution_count": null,
   "id": "732e8199",
   "metadata": {},
   "outputs": [],
   "source": [
    "import sys\n",
    "import ff\n",
    "\n",
    "# sys.path.insert(0, \"/Users/raymondiacobacci/Downloads/rcwaControl/\")\n",
    "# import rcwa  # type: ignore\n",
    "\n",
    "import matplotlib.pyplot as plt\n",
    "import numpy as np\n",
    "\n",
    "import pandas as pd\n",
    "\n",
    "h = 6.626070e-34  # Js Planck's constant\n",
    "c = 2.997925e8  # m/s speed of light\n",
    "k_B = 1.380649e-23  # J/K Boltzmann constant\n",
    "q = 1.602176e-19  # C elementary charge\n",
    "l_i = np.arange(350, 3001, 1)  # nm wavelength range\n",
    "T_e = 2073.15  # K emitter temperature\n",
    "\n",
    "blackbody_radiation = (\n",
    "    lambda lambda_i, T: (2 * h * c**2)\n",
    "    / ((np.exp((h * c) / (k_B * T * lambda_i * 1e-9)) - 1) * lambda_i**5)\n",
    "    * 1e32\n",
    ")\n",
    "\n",
    "B_i = blackbody_radiation(l_i, T_e)  # 2073.15K blackbody\n",
    "\n",
    "with open(\"homogeneous-film-emissivity.txt\", \"r\") as f:\n",
    "    p = f.readlines()\n",
    "efficiency_array = ff.parse_data(p)\n",
    "\n",
    "blackbody_transmission_array = [i * B_i for i in efficiency_array]\n",
    "\n",
    "n_all = pd.read_excel(\"/Users/raymondiacobacci/LeiteLab-6_8/n-allHTMats-2.xlsx\")\n",
    "k_all = pd.read_excel(\"/Users/raymondiacobacci/LeiteLab-6_8/k-allHTMats.xlsx\")\n",
    "\n",
    "nb_B = (\n",
    "    lambda lambda_i, T: (2 * c)\n",
    "    / ((np.exp((h * c) / (k_B * T * lambda_i * 1e-9)) - 1) * lambda_i**4)\n",
    "    * 1e23\n",
    ")\n",
    "nb_B_e = nb_B(l_i, T_e)\n",
    "T_PV = 300\n",
    "nb_B_PV = nb_B(l_i, T_PV)\n",
    "nk_AlN = n_all[\"AlN\"] + 1j * k_all[\"AlN\"]\n",
    "nk_W = n_all[\"W\"] + 1j * k_all[\"W\"]"
   ]
  },
  {
   "cell_type": "code",
   "execution_count": 24,
   "id": "4d876d45",
   "metadata": {},
   "outputs": [
    {
     "name": "stdout",
     "output_type": "stream",
     "text": [
      "The autoreload extension is already loaded. To reload it, use:\n",
      "  %reload_ext autoreload\n",
      "Forward omega:\n",
      "[[0.+1.414214j 0.+0.j      ]\n",
      " [0.+0.j       0.+1.414214j]]\n",
      "[[ 1.+0.j  0.+0.j  1.+0.j  0.+0.j]\n",
      " [ 0.+0.j  1.+0.j  0.+0.j  1.+0.j]\n",
      " [-0.-0.j -2.-0.j  0.+0.j  2.+0.j]\n",
      " [ 2.-0.j -0.-0.j -2.+0.j  0.+0.j]]\n",
      "[[0.25+0.j 0.  +0.j]\n",
      " [0.  +0.j 0.25+0.j]] [[0.75+0.j 0.  +0.j]\n",
      " [0.  +0.j 0.75+0.j]] [[0.75+0.j 0.  +0.j]\n",
      " [0.  +0.j 0.75+0.j]] [[0.25+0.j 0.  +0.j]\n",
      " [0.  +0.j 0.25+0.j]]\n",
      "[-3.+0.j  0.+0.j]\n"
     ]
    }
   ],
   "source": [
    "%load_ext autoreload\n",
    "%autoreload 2\n",
    "\n",
    "import numpy as np\n",
    "import solver_v2 as rc\n",
    "import pandas as pd\n",
    "\n",
    "h = 6.626070e-34  # Js Planck's constant\n",
    "c = 2.997925e8  # m/s speed of light\n",
    "k_B = 1.380649e-23  # J/K Boltzmann constant\n",
    "q = 1.602176e-19  # C elementary charge\n",
    "l_i = np.arange(350, 3001, 1)  # nm wavelength range\n",
    "T_e = 2073.15  # K emitter temperature\n",
    "\n",
    "n_all = pd.read_excel(\"/Users/raymondiacobacci/LeiteLab-6_8/n-allHTMats-2.xlsx\")\n",
    "k_all = pd.read_excel(\"/Users/raymondiacobacci/LeiteLab-6_8/k-allHTMats.xlsx\")\n",
    "\n",
    "nb_B = (\n",
    "    lambda lambda_i, T: (2 * c)\n",
    "    / ((np.exp((h * c) / (k_B * T * lambda_i * 1e-9)) - 1) * lambda_i**4)\n",
    "    * 1e23\n",
    ")\n",
    "nb_B_e = nb_B(l_i, T_e)\n",
    "T_PV = 300\n",
    "nb_B_PV = nb_B(l_i, T_PV)\n",
    "nk_AlN = n_all[\"AlN\"] + 1j * k_all[\"AlN\"]\n",
    "nk_W = n_all[\"W\"] + 1j * k_all[\"W\"]\n",
    "\n",
    "er = np.array([x%2 for x in range(100)])\n",
    "er = np.ones(shape = er.shape)\n",
    "# er[50] *= 2\n",
    "ur = np.ones(shape = er.shape)\n",
    "\n",
    "test_wavelength_index = 650\n",
    "\n",
    "n_harmonics = 0\n",
    "\n",
    "air_layer = rc.Layer(permittivity = er*0+1, permeability = ur, thickness = 9, n_harmonics = n_harmonics)\n",
    "aln_grating = rc.Layer(\n",
    "    # permittivity=1*er,\n",
    "    permittivity=er*2,\n",
    "    permeability=ur,\n",
    "    thickness=.473,\n",
    "    n_harmonics=n_harmonics,\n",
    ")\n",
    "w_layer = rc.Layer(permittivity = nk_W[test_wavelength_index] ** 2 * er, permeability = ur, thickness = 9, n_harmonics = n_harmonics)\n",
    "\n",
    "w_layer = rc.Layer(permittivity = 1 ** 2 * er, permeability = ur, thickness = 9, n_harmonics = n_harmonics)\n",
    "\n",
    "my_solver = rc.Solver(layer_stack = [air_layer, aln_grating, w_layer, air_layer], grating_period = 1, wavelength = 1, n_harmonics = n_harmonics)\n",
    "# print(my_solver.soln())\n",
    "\n",
    "# print(f'Emissivity: {my_solver.global_scattering_matrix[(2*n_harmonics + 1)*2:, :(2*n_harmonics + 1)*2]}')"
   ]
  },
  {
   "cell_type": "code",
   "execution_count": 297,
   "id": "9d8805f2",
   "metadata": {},
   "outputs": [
    {
     "data": {
      "text/plain": [
       "(55.12382726187996+9.60026146408e-15j)"
      ]
     },
     "execution_count": 297,
     "metadata": {},
     "output_type": "execute_result"
    }
   ],
   "source": [
    "7.795684e+01*0.707107+ -5.844232e-14*(0.687761-0.164269j)"
   ]
  },
  {
   "cell_type": "code",
   "execution_count": 298,
   "id": "10d46a34",
   "metadata": {},
   "outputs": [
    {
     "data": {
      "text/plain": [
       "(32.29159409215995-9.84446771204j)"
      ]
     },
     "execution_count": 298,
     "metadata": {},
     "output_type": "execute_result"
    }
   ],
   "source": [
    "7.795684e+01*(0.414224-0.126281j)+ -5.844232e-14*(0.901372+0.000000j)"
   ]
  },
  {
   "cell_type": "code",
   "execution_count": 274,
   "id": "15e4254b",
   "metadata": {},
   "outputs": [
    {
     "data": {
      "text/plain": [
       "0.999999999999993"
      ]
     },
     "execution_count": 274,
     "metadata": {},
     "output_type": "execute_result"
    }
   ],
   "source": [
    "np.abs(0.9429905358928607+0.33281954452297624j)"
   ]
  },
  {
   "cell_type": "code",
   "execution_count": 190,
   "id": "435f3f14",
   "metadata": {},
   "outputs": [
    {
     "data": {
      "text/plain": [
       "0.87867966"
      ]
     },
     "execution_count": 190,
     "metadata": {},
     "output_type": "execute_result"
    }
   ],
   "source": [
    "0.85355339+0.02512627"
   ]
  },
  {
   "cell_type": "code",
   "execution_count": 191,
   "id": "6eee4536",
   "metadata": {},
   "outputs": [
    {
     "data": {
      "text/plain": [
       "0.029437253151494404"
      ]
     },
     "execution_count": 191,
     "metadata": {},
     "output_type": "execute_result"
    }
   ],
   "source": [
    "0.17157288**2"
   ]
  },
  {
   "cell_type": "code",
   "execution_count": 65,
   "id": "6c6d21a3",
   "metadata": {},
   "outputs": [
    {
     "data": {
      "text/plain": [
       "(0.77846231232368+0j)"
      ]
     },
     "execution_count": 65,
     "metadata": {},
     "output_type": "execute_result"
    }
   ],
   "source": [
    "0.94299054**2+0.33281954j**2"
   ]
  },
  {
   "cell_type": "code",
   "execution_count": 58,
   "id": "c3dc23fb",
   "metadata": {},
   "outputs": [
    {
     "name": "stdout",
     "output_type": "stream",
     "text": [
      "[[78, 0, 0, 0, 0, 0], [0, -1, 0, 0, 0, 0], [0, 0, 78, 0.1, 0, 0], [0, 0, 0, 78, 0, 0], [0, 0, 0, 0, -1, 0], [0, 0, 0, 0, 0, 78]]\n",
      "[[ 1.00000000e+00  0.00000000e+00  0.00000000e+00  0.00000000e+00\n",
      "   0.00000000e+00  0.00000000e+00]\n",
      " [ 0.00000000e+00  1.00000000e+00  0.00000000e+00  0.00000000e+00\n",
      "   0.00000000e+00  0.00000000e+00]\n",
      " [ 0.00000000e+00  0.00000000e+00  1.00000000e+00 -1.00000000e+00\n",
      "   0.00000000e+00  0.00000000e+00]\n",
      " [ 0.00000000e+00  0.00000000e+00  0.00000000e+00  1.73194792e-13\n",
      "   0.00000000e+00  0.00000000e+00]\n",
      " [ 0.00000000e+00  0.00000000e+00  0.00000000e+00  0.00000000e+00\n",
      "   1.00000000e+00  0.00000000e+00]\n",
      " [ 0.00000000e+00  0.00000000e+00  0.00000000e+00  0.00000000e+00\n",
      "   0.00000000e+00  1.00000000e+00]]\n",
      "Eigen computed\n",
      "[ 0.00000000e+00  0.00000000e+00 -7.80000000e+01  1.35091938e-11\n",
      "  0.00000000e+00  0.00000000e+00]\n",
      "Value computed\n",
      "[ 0.00000000e+00  0.00000000e+00 -7.80000000e+01  1.35091938e-11\n",
      "  0.00000000e+00  0.00000000e+00]\n",
      "[[(77.9568352+0j), 0j, 0j, (-5.8442315e-14+0j), 0j, 0j], [0j, (-1+0j), 0j, 0j, 0j, 0j], [0j, 0j, (77.9568352+0j), 0j, 0j, (-5.8442315e-14+0j)], [(5.8442315e-14+0j), 0j, 0j, (77.9568352+0j), 0j, 0j], [0j, 0j, 0j, 0j, (-1+0j), 0j], [0j, 0j, (5.8442315e-14+0j), 0j, 0j, (77.9568352+0j)]]\n",
      "[[ 0.70710678+0.j          0.04822288-0.65752977j -0.        +0.j\n",
      "   0.        +0.j          0.        +0.j          0.        +0.j        ]\n",
      " [-0.        +0.j          0.        +0.j         -0.        +0.j\n",
      "   0.        +0.j          1.        +0.j          0.        +0.j        ]\n",
      " [-0.        +0.j          0.        +0.j          0.70710678+0.j\n",
      "   0.04822288-0.65752977j  0.        +0.j          0.        +0.j        ]\n",
      " [-0.        -0.70710678j  0.75188374+0.j         -0.        +0.j\n",
      "   0.        +0.j          0.        +0.j          0.        +0.j        ]\n",
      " [-0.        +0.j          0.        +0.j         -0.        +0.j\n",
      "   0.        +0.j          0.        +0.j          1.        +0.j        ]\n",
      " [-0.        +0.j          0.        +0.j         -0.        -0.70710678j\n",
      "   0.75188374+0.j          0.        +0.j          0.        +0.j        ]]\n",
      "[[(77.9568352+0j), 0j, 0j, 0j, 0j, 0j], [0j, (-1+0j), 0j, 0j, 0j, 0j], [0j, 0j, (77.9568352+0j), 0j, 0j, 0j], [0j, 0j, 0j, (77.9568352+0j), 0j, 0j], [0j, 0j, 0j, 0j, (-1+0j), 0j], [0j, 0j, 0j, 0j, 0j, (77.9568352+0j)]]\n",
      "[[1.+0.j 0.+0.j 0.+0.j 0.+0.j 0.+0.j 0.+0.j]\n",
      " [0.+0.j 1.+0.j 0.+0.j 0.+0.j 0.+0.j 0.+0.j]\n",
      " [0.+0.j 0.+0.j 1.+0.j 0.+0.j 0.+0.j 0.+0.j]\n",
      " [0.+0.j 0.+0.j 0.+0.j 1.+0.j 0.+0.j 0.+0.j]\n",
      " [0.+0.j 0.+0.j 0.+0.j 0.+0.j 1.+0.j 0.+0.j]\n",
      " [0.+0.j 0.+0.j 0.+0.j 0.+0.j 0.+0.j 1.+0.j]]\n",
      "0j\n"
     ]
    }
   ],
   "source": [
    "x=[[78,0,0,0,0,0],[0,-1,0,0,0,0],[0,0,78,0.1,0,0],[0,0,0,78,0,0],[0,0,0,0,-1,0],[0,0,0,0,0,78]]\n",
    "print(x)\n",
    "print(np.linalg.eig(x)[1])\n",
    "print('Eigen computed')\n",
    "print(x@np.linalg.eig(x)[1][:,3])\n",
    "print('Value computed')\n",
    "print(np.linalg.eig(x)[0][3]*np.linalg.eig(x)[1][:,3])\n",
    "x1=[[ 7.79568352e+01+0.j , 0.00000000e+00+0.j , 0.00000000e+00+0.j,\n",
    "  -5.84423150e-14+0.j,  0.00000000e+00+0.j,  0.00000000e+00+0.j],\n",
    " [ 0.00000000e+00+0.j, -1.00000000e+00+0.j,  0.00000000e+00+0.j,\n",
    "   0.00000000e+00+0.j,  0.00000000e+00+0.j,  0.00000000e+00+0.j],\n",
    " [ 0.00000000e+00+0.j,  0.00000000e+00+0.j,  7.79568352e+01+0.j,\n",
    "   0.00000000e+00+0.j,  0.00000000e+00+0.j, -5.84423150e-14+0.j],\n",
    " [ 5.84423150e-14+0.j , 0.00000000e+00+0.j  ,0.00000000e+00+0.j\n",
    ",   7.79568352e+01+0.j,  0.00000000e+00+0.j , 0.00000000e+00+0.j],\n",
    " [ 0.00000000e+00+0.j  ,0.00000000e+00+0.j  ,0.00000000e+00+0.j\n",
    " ,  0.00000000e+00+0.j, -1.00000000e+00+0.j,  0.00000000e+00+0.j],\n",
    " [ 0.00000000e+00+0.j ,0.00000000e+00+0.j ,5.84423150e-14+0.j\n",
    ",0.00000000e+00+0.j ,0.00000000e+00+0.j ,7.79568352e+01+0.j]]\n",
    "print(x1)\n",
    "print(np.linalg.eig(x1)[1])\n",
    "x2=[[ 7.79568352e+01+0.j , 0.00000000e+00+0.j , 0.00000000e+00+0.j,\n",
    "  0+0.j,  0.00000000e+00+0.j,  0.00000000e+00+0.j],\n",
    " [ 0.00000000e+00+0.j, -1.00000000e+00+0.j,  0.00000000e+00+0.j,\n",
    "   0.00000000e+00+0.j,  0.00000000e+00+0.j,  0.00000000e+00+0.j],\n",
    " [ 0.00000000e+00+0.j,  0.00000000e+00+0.j,  7.79568352e+01+0.j,\n",
    "   0.00000000e+00+0.j,  0.00000000e+00+0.j, 0+0.j],\n",
    " [ 0+0.j , 0.00000000e+00+0.j  ,0.00000000e+00+0.j\n",
    ",   7.79568352e+01+0.j,  0.00000000e+00+0.j , 0.00000000e+00+0.j],\n",
    " [ 0.00000000e+00+0.j  ,0.00000000e+00+0.j  ,0.00000000e+00+0.j\n",
    " ,  0.00000000e+00+0.j, -1.00000000e+00+0.j,  0.00000000e+00+0.j],\n",
    " [ 0.00000000e+00+0.j ,0.00000000e+00+0.j ,0+0.j\n",
    ",0.00000000e+00+0.j ,0.00000000e+00+0.j ,7.79568352e+01+0.j]]\n",
    "print(x2)\n",
    "print(np.linalg.eig(x2)[1])\n",
    "print(np.sum(np.array(x1) - np.array(x2)))"
   ]
  },
  {
   "cell_type": "code",
   "execution_count": 62,
   "id": "571cb936",
   "metadata": {},
   "outputs": [
    {
     "name": "stdout",
     "output_type": "stream",
     "text": [
      "[[ 7.79568352e+01+0.j  0.00000000e+00+0.j  0.00000000e+00+0.j\n",
      "   7.64441833e-14+0.j  0.00000000e+00+0.j  0.00000000e+00+0.j]\n",
      " [ 0.00000000e+00+0.j -1.00000000e+00+0.j  0.00000000e+00+0.j\n",
      "   0.00000000e+00+0.j  0.00000000e+00+0.j  0.00000000e+00+0.j]\n",
      " [ 0.00000000e+00+0.j  0.00000000e+00+0.j  7.79568352e+01+0.j\n",
      "   0.00000000e+00+0.j  0.00000000e+00+0.j  7.64441833e-14+0.j]\n",
      " [-7.64441833e-14+0.j  0.00000000e+00+0.j  0.00000000e+00+0.j\n",
      "   7.79568352e+01+0.j  0.00000000e+00+0.j  0.00000000e+00+0.j]\n",
      " [ 0.00000000e+00+0.j  0.00000000e+00+0.j  0.00000000e+00+0.j\n",
      "   0.00000000e+00+0.j -1.00000000e+00+0.j  0.00000000e+00+0.j]\n",
      " [ 0.00000000e+00+0.j  0.00000000e+00+0.j -7.64441833e-14+0.j\n",
      "   0.00000000e+00+0.j  0.00000000e+00+0.j  7.79568352e+01+0.j]]\n",
      "[[ 7.79568352e+01+0.j  0.00000000e+00+0.j  0.00000000e+00+0.j\n",
      "   7.64441833e-14+0.j  0.00000000e+00+0.j  0.00000000e+00+0.j]\n",
      " [ 0.00000000e+00+0.j -1.00000000e+00+0.j  0.00000000e+00+0.j\n",
      "   0.00000000e+00+0.j  0.00000000e+00+0.j  0.00000000e+00+0.j]\n",
      " [ 0.00000000e+00+0.j  0.00000000e+00+0.j  7.79568352e+01+0.j\n",
      "   0.00000000e+00+0.j  0.00000000e+00+0.j  7.64441833e-14+0.j]\n",
      " [-7.64441833e-14+0.j  0.00000000e+00+0.j  0.00000000e+00+0.j\n",
      "   7.79568352e+01+0.j  0.00000000e+00+0.j  0.00000000e+00+0.j]\n",
      " [ 0.00000000e+00+0.j  0.00000000e+00+0.j  0.00000000e+00+0.j\n",
      "   0.00000000e+00+0.j -1.00000000e+00+0.j  0.00000000e+00+0.j]\n",
      " [ 0.00000000e+00+0.j  0.00000000e+00+0.j -7.64441833e-14+0.j\n",
      "   0.00000000e+00+0.j  0.00000000e+00+0.j  7.79568352e+01+0.j]]\n",
      "[[77.9568352+0.j  0.       +0.j  0.       +0.j  0.       +0.j\n",
      "   0.       +0.j  0.       +0.j]\n",
      " [ 0.       +0.j -1.       +0.j  0.       +0.j  0.       +0.j\n",
      "   0.       +0.j  0.       +0.j]\n",
      " [ 0.       +0.j  0.       +0.j 77.9568352+0.j  0.       +0.j\n",
      "   0.       +0.j  0.       +0.j]\n",
      " [ 0.       +0.j  0.       +0.j  0.       +0.j 77.9568352+0.j\n",
      "   0.       +0.j  0.       +0.j]\n",
      " [ 0.       +0.j  0.       +0.j  0.       +0.j  0.       +0.j\n",
      "  -1.       +0.j  0.       +0.j]\n",
      " [ 0.       +0.j  0.       +0.j  0.       +0.j  0.       +0.j\n",
      "   0.       +0.j 77.9568352+0.j]]\n"
     ]
    }
   ],
   "source": [
    "p=[[ 39.4784176+0.j,   0.       +0.j,   0.       +0.j, -38.4784176+0.j,\n",
    "    0.       +0.j,   0.       +0.j],\n",
    " [  0.       +0.j,   0.       +0.j,   0.       +0.j,   0.       +0.j,\n",
    "    1.       +0.j,   0.       +0.j],\n",
    " [  0.       +0.j,   0.       +0.j,  39.4784176+0.j,   0.       +0.j,\n",
    "    0.       +0.j, -38.4784176+0.j],\n",
    " [ 38.4784176+0.j,   0.       +0.j,   0.       +0.j, -39.4784176+0.j,\n",
    "    0.       +0.j,   0.       +0.j],\n",
    " [  0.       +0.j,  -1.       +0.j,   0.       +0.j,   0.       +0.j,\n",
    "    0.       +0.j,   0.       +0.j],\n",
    " [  0.       +0.j,   0.       +0.j,  38.4784176+0.j,   0.       +0.j,\n",
    "    0.       +0.j, -39.4784176+0.j]]\n",
    "q=p=[[ 39.4784176+0.j,   0.       +0.j,   0.       +0.j, -38.4784176+0.j,\n",
    "    0.       +0.j,   0.       +0.j],\n",
    " [  0.       +0.j,   0.       +0.j,   0.       +0.j,   0.       +0.j,\n",
    "    1.       +0.j,   0.       +0.j],\n",
    " [  0.       +0.j,   0.       +0.j,  39.4784176+0.j,   0.       +0.j,\n",
    "    0.       +0.j, -38.4784176+0.j],\n",
    " [ 38.4784176+0.j,   0.       +0.j,   0.       +0.j, -39.4784176+0.j,\n",
    "    0.       +0.j,   0.       +0.j],\n",
    " [  0.       +0.j,  -1.       +0.j,   0.       +0.j,   0.       +0.j,\n",
    "    0.       +0.j,   0.       +0.j],\n",
    " [  0.       +0.j,   0.       +0.j,  38.4784176+0.j,   0.       +0.j,\n",
    "    0.       +0.j, -39.4784176+0.j]]\n",
    "p,q=np.array(p),np.array(q)\n",
    "print(p@q)\n",
    "print(np.matmul(p,q))\n",
    "print(manual_matmul(p,q))"
   ]
  },
  {
   "cell_type": "code",
   "execution_count": 61,
   "id": "52762531",
   "metadata": {},
   "outputs": [],
   "source": [
    "def manual_matmul(A, B):\n",
    "    \"\"\"\n",
    "    Manually performs matrix multiplication between two NumPy arrays A and B.\n",
    "\n",
    "    Parameters:\n",
    "    - A: NumPy array of shape (m, n)\n",
    "    - B: NumPy array of shape (n, p)\n",
    "\n",
    "    Returns:\n",
    "    - result: NumPy array of shape (m, p) resulting from A x B\n",
    "    \"\"\"\n",
    "\n",
    "    # Get the dimensions of the input matrices\n",
    "    a_rows, a_cols = A.shape\n",
    "    b_rows, b_cols = B.shape\n",
    "\n",
    "    # Check if the matrices can be multiplied\n",
    "    if a_cols != b_rows:\n",
    "        raise ValueError(\"Incompatible dimensions for matrix multiplication.\")\n",
    "\n",
    "    # Initialize the result matrix with zeros\n",
    "    result = np.zeros((a_rows, b_cols), dtype=complex)\n",
    "\n",
    "    # Perform the matrix multiplication manually\n",
    "    for i in range(a_rows):\n",
    "        for j in range(b_cols):\n",
    "            for k in range(a_cols):  # or range(b_rows)\n",
    "                result[i, j] += A[i, k] * B[k, j]\n",
    "    return result\n"
   ]
  }
 ],
 "metadata": {
  "kernelspec": {
   "display_name": "Python 3",
   "language": "python",
   "name": "python3"
  },
  "language_info": {
   "codemirror_mode": {
    "name": "ipython",
    "version": 3
   },
   "file_extension": ".py",
   "mimetype": "text/x-python",
   "name": "python",
   "nbconvert_exporter": "python",
   "pygments_lexer": "ipython3",
   "version": "3.9.13"
  }
 },
 "nbformat": 4,
 "nbformat_minor": 5
}
