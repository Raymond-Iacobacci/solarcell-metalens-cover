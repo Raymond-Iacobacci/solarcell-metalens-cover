{
 "cells": [
  {
   "cell_type": "code",
   "execution_count": 2,
   "id": "2c8538e6",
   "metadata": {},
   "outputs": [],
   "source": [
    "import numpy as np\n",
    "M = [[77.956835+0.j,  0.      +0.j,  0.      +0.j, -0.      +0.j,  0.      +0.j,  0.      +0.j],\n",
    " [ 0.      +0.j, -1.      +0.j,  0.      +0.j,  0.      +0.j,  0.      +0.j,  0.      +0.j],\n",
    " [ 0.      +0.j,  0.      +0.j, 77.956835+0.j,  0.      +0.j,  0.      +0.j, -0.      +0.j],\n",
    " [ 0.      +0.j,  0.      +0.j,  0.      +0.j, 77.956835+0.j,  0.      +0.j,  0.      +0.j],\n",
    " [ 0.      +0.j,  0.      +0.j,  0.      +0.j,  0.      +0.j, -1.      +0.j,  0.      +0.j],\n",
    " [ 0.      +0.j,  0.      +0.j,  0.      +0.j,  0.      +0.j,  0.      +0.j, 77.956835+0.j]]\n",
    "M = np.array(M)"
   ]
  },
  {
   "cell_type": "code",
   "execution_count": 6,
   "id": "bce3b07b",
   "metadata": {},
   "outputs": [
    {
     "name": "stdout",
     "output_type": "stream",
     "text": [
      "[[77.956835+0.j  0.      +0.j  0.      +0.j  0.      +0.j  0.      +0.j\n",
      "   0.      +0.j]\n",
      " [ 0.      +0.j -1.      +0.j  0.      +0.j  0.      +0.j  0.      +0.j\n",
      "   0.      +0.j]\n",
      " [ 0.      +0.j  0.      +0.j 77.956835+0.j  0.      +0.j  0.      +0.j\n",
      "   0.      +0.j]\n",
      " [ 0.      +0.j  0.      +0.j  0.      +0.j 77.956835+0.j  0.      +0.j\n",
      "   0.      +0.j]\n",
      " [ 0.      +0.j  0.      +0.j  0.      +0.j  0.      +0.j -1.      +0.j\n",
      "   0.      +0.j]\n",
      " [ 0.      +0.j  0.      +0.j  0.      +0.j  0.      +0.j  0.      +0.j\n",
      "  77.956835+0.j]]\n",
      "Converged in 1 iterations.\n"
     ]
    },
    {
     "data": {
      "text/plain": [
       "array([77.956835, -1.      , 77.956835, 77.956835, -1.      , 77.956835])"
      ]
     },
     "execution_count": 6,
     "metadata": {},
     "output_type": "execute_result"
    }
   ],
   "source": [
    "import ff\n",
    "print(M)\n",
    "ff.eigendecomposition_qr(M)"
   ]
  }
 ],
 "metadata": {
  "kernelspec": {
   "display_name": "Python 3",
   "language": "python",
   "name": "python3"
  },
  "language_info": {
   "codemirror_mode": {
    "name": "ipython",
    "version": 3
   },
   "file_extension": ".py",
   "mimetype": "text/x-python",
   "name": "python",
   "nbconvert_exporter": "python",
   "pygments_lexer": "ipython3",
   "version": "3.9.13"
  }
 },
 "nbformat": 4,
 "nbformat_minor": 5
}
